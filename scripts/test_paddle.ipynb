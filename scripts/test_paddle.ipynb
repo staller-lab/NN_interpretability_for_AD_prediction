{
 "cells": [
  {
   "cell_type": "code",
   "execution_count": 1,
   "id": "0d4dfff4",
   "metadata": {},
   "outputs": [],
   "source": [
    "import os\n",
    "os.chdir(\"/Users/claireleblanc/Documents/tools_software/PADDLE\")\n",
    "\n",
    "import paddle"
   ]
  },
  {
   "cell_type": "code",
   "execution_count": 2,
   "id": "baa03b15",
   "metadata": {},
   "outputs": [
    {
     "name": "stdout",
     "output_type": "stream",
     "text": [
      "Loading model split 1 of 10\n",
      "Loading model split 2 of 10\n",
      "Loading model split 3 of 10\n",
      "Loading model split 4 of 10\n",
      "Loading model split 5 of 10\n",
      "Loading model split 6 of 10\n",
      "Loading model split 7 of 10\n",
      "Loading model split 8 of 10\n",
      "Loading model split 9 of 10\n",
      "Loading model split 10 of 10\n"
     ]
    }
   ],
   "source": [
    "pad_noSS = paddle.PADDLE_noSS()"
   ]
  }
 ],
 "metadata": {
  "kernelspec": {
   "display_name": "predictors",
   "language": "python",
   "name": "python3"
  },
  "language_info": {
   "codemirror_mode": {
    "name": "ipython",
    "version": 3
   },
   "file_extension": ".py",
   "mimetype": "text/x-python",
   "name": "python",
   "nbconvert_exporter": "python",
   "pygments_lexer": "ipython3",
   "version": "3.10.8"
  }
 },
 "nbformat": 4,
 "nbformat_minor": 5
}
