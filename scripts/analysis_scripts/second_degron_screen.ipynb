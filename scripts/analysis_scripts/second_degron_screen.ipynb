{
 "cells": [
  {
   "cell_type": "code",
   "execution_count": 48,
   "id": "5753f264",
   "metadata": {},
   "outputs": [],
   "source": [
    "import pandas as pd\n",
    "import matplotlib.pyplot as plt\n",
    "import re\n",
    "import numpy as np"
   ]
  },
  {
   "cell_type": "code",
   "execution_count": 19,
   "id": "f4624cee",
   "metadata": {},
   "outputs": [],
   "source": [
    "data = pd.read_excel(\"/Users/claireleblanc/Downloads/media-2 (1).xlsx\")\n",
    "data = data[data[\"set\"] != 'control']"
   ]
  },
  {
   "cell_type": "code",
   "execution_count": 25,
   "id": "685729a8",
   "metadata": {},
   "outputs": [],
   "source": [
    "hydrophobics = ['A', 'V', 'I', 'L', 'M', 'F', 'Y', 'W']"
   ]
  },
  {
   "cell_type": "code",
   "execution_count": 53,
   "id": "2d2b323a",
   "metadata": {},
   "outputs": [],
   "source": [
    "data[\"hydrophobic_end\"] = [s[-1] in hydrophobics for s in data['aa']]\n",
    "\n",
    "# data[\"hydrophobic\"] = [(s[-1] in hydrophobics) and (s[-2] in hydrophobics) for s in data['aa']]\n",
    "# data[\"hydrophobic_end\"] = [(s[-1] in hydrophobics) and (s[-2] in hydrophobics) and (s[-3] in hydrophobics) for s in data['aa']]\n",
    "data[\"hydrophobic_anywhere\"] = [True if re.search(\"[AVILMFYW][AVILMFYW][AVILMFYW]\", s) else False for s in data['aa']]\n",
    "data[\"hydrophobic_anywhere\"] = [True if re.search(\"[AVILMFYW]\", s) else False for s in data['aa']]"
   ]
  },
  {
   "cell_type": "code",
   "execution_count": 36,
   "id": "27d10412",
   "metadata": {},
   "outputs": [],
   "source": [
    "\n",
    "if re.search(\"[AVILMFYW][AVILMFYW][AVILMFYW]\", \"RWWR\"): \n",
    "    print(True)"
   ]
  },
  {
   "cell_type": "code",
   "execution_count": 54,
   "id": "974382e9",
   "metadata": {},
   "outputs": [
    {
     "data": {
      "text/plain": [
       "<matplotlib.legend.Legend at 0x33bc5c910>"
      ]
     },
     "execution_count": 54,
     "metadata": {},
     "output_type": "execute_result"
    },
    {
     "data": {
      "image/png": "[encoded data removed]",
      "text/plain": [
       "<Figure size 640x480 with 1 Axes>"
      ]
     },
     "metadata": {},
     "output_type": "display_data"
    }
   ],
   "source": [
    "plt.hist(data[data[\"hydrophobic_anywhere\"]]['abundance_score'], density=True, alpha=0.5, bins=np.arange(0,1,0.05), label=\"hydrophobic anywhere\")\n",
    "plt.hist(data['abundance_score'], alpha=0.5, density=True, bins=np.arange(0,1,0.05), label=\"overall distribution\")\n",
    "plt.hist(data[data[\"hydrophobic_end\"]]['abundance_score'], density=True, alpha=0.5, label=\"hydrophobic end\", bins=np.arange(0,1,0.05))\n",
    "\n",
    "plt.legend()"
   ]
  }
 ],
 "metadata": {
  "kernelspec": {
   "display_name": "basic_env",
   "language": "python",
   "name": "python3"
  },
  "language_info": {
   "codemirror_mode": {
    "name": "ipython",
    "version": 3
   },
   "file_extension": ".py",
   "mimetype": "text/x-python",
   "name": "python",
   "nbconvert_exporter": "python",
   "pygments_lexer": "ipython3",
   "version": "3.13.2"
  }
 },
 "nbformat": 4,
 "nbformat_minor": 5
}
